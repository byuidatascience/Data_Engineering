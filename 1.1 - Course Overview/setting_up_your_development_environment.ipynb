{
 "cells": [
  {
   "cell_type": "markdown",
   "metadata": {},
   "source": [
    "## How to set up your development environment"
   ]
  },
  {
   "cell_type": "markdown",
   "metadata": {},
   "source": [
    "#### Setting up your text editor\n",
    "\n",
    "Be sure to use the specific links listed below (there are many similar Atom plugins, these work the best)"
   ]
  },
  {
   "cell_type": "markdown",
   "metadata": {},
   "source": [
    "![Atom](images/atom.png)"
   ]
  },
  {
   "cell_type": "markdown",
   "metadata": {},
   "source": [
    "Atom is a text editor developed and maintained by github.  It's my preferred editor because it is well integrated with github and is highly customizable.\n",
    "\n",
    "1) Install Atom here: https://atom.io/"
   ]
  },
  {
   "cell_type": "markdown",
   "metadata": {},
   "source": [
    "![Linter](images/linter.png)"
   ]
  },
  {
   "cell_type": "markdown",
   "metadata": {},
   "source": [
    "Linter is a package that allows you to have live feedback on the code you're writing.\n",
    "\n",
    "2) Install linter:  https://atom.io/packages/linter"
   ]
  },
  {
   "cell_type": "markdown",
   "metadata": {},
   "source": [
    "![linter-flake8](images/linter-flake8.png)"
   ]
  },
  {
   "cell_type": "markdown",
   "metadata": {},
   "source": [
    "linter-flake8 is a package that, in combination with linter, will give you live feedback on your code's violation of pep8 (python coding standards)\n",
    "\n",
    "3) Install linter-flake8: https://atom.io/packages/linter-flake8"
   ]
  },
  {
   "cell_type": "markdown",
   "metadata": {},
   "source": [
    "![Atom-beautify](images/atom-beautify.png)"
   ]
  },
  {
   "cell_type": "markdown",
   "metadata": {},
   "source": [
    "Atom-beautify will take care of spacing issues for us, some low-hanging fruit of pep8 errors\n",
    "\n",
    "4) Install Atom-beautify: https://atom.io/packages/atom-beautify "
   ]
  },
  {
   "cell_type": "markdown",
   "metadata": {},
   "source": [
    "Here are a few optional items.  Spectacle (https://www.spectacleapp.com/) is a window manager that will allow you to quickly organize your screen.  Headphones with good music is an absolute must.\n",
    "\n",
    "Finally, if you know what a bash profile is, you can install `oh-my-zsh` to customize your terminal.  This makes your terminal easier to read with supplemental information like which git branch you're on.  If you don't know what a bash profile is, back burner this tool for later as it can cause some complexities.  Their gihub repo is here: https://github.com/robbyrussell/oh-my-zsh"
   ]
  }
 ],
 "metadata": {
  "kernelspec": {
   "display_name": "Python 3",
   "language": "python",
   "name": "python3"
  },
  "language_info": {
   "codemirror_mode": {
    "name": "ipython",
    "version": 3
   },
   "file_extension": ".py",
   "mimetype": "text/x-python",
   "name": "python",
   "nbconvert_exporter": "python",
   "pygments_lexer": "ipython3",
   "version": "3.6.0"
  }
 },
 "nbformat": 4,
 "nbformat_minor": 2
}
