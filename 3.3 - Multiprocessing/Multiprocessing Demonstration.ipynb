{
 "cells": [
  {
   "cell_type": "markdown",
   "metadata": {
    "deletable": true,
    "editable": true
   },
   "source": [
    "# Multiprocessing Demonstration"
   ]
  },
  {
   "cell_type": "markdown",
   "metadata": {
    "deletable": true,
    "editable": true
   },
   "source": [
    "![multiprocessing](multiprocessing.jpg)"
   ]
  },
  {
   "cell_type": "markdown",
   "metadata": {
    "deletable": true,
    "editable": true
   },
   "source": [
    "### Learning Objectives:\n",
    "* Global Interpreter Lock (GIL)\n",
    "* What is multiprocessing?\n",
    "* Speed comparison \n",
    "* Runtime analysis\n",
    "* Multiprocessing vs Threading\n",
    "* Extending to other technologies"
   ]
  },
  {
   "cell_type": "markdown",
   "metadata": {
    "deletable": true,
    "editable": true
   },
   "source": [
    "### Global Interpreter Lock (GIL)"
   ]
  },
  {
   "cell_type": "markdown",
   "metadata": {
    "collapsed": true,
    "deletable": true,
    "editable": true
   },
   "source": [
    "Global interpreter lock (GIL) is a mechanism used in computer language interpreters to synchronize the execution of threads so that only one native thread can execute at a time. (https://en.wikipedia.org/wiki/Global_interpreter_lock)\n",
    "\n",
    "* **In other words, CPython only runs one thread at a time**\n",
    "* This avoids compromising shared/global data structures\n",
    "* To get parallelization in python, we must run multiple jobs as separate processes\n"
   ]
  },
  {
   "cell_type": "markdown",
   "metadata": {
    "collapsed": false,
    "deletable": true,
    "editable": true
   },
   "source": [
    "### What is multiprocessing?"
   ]
  },
  {
   "cell_type": "code",
   "execution_count": 1,
   "metadata": {
    "collapsed": false,
    "deletable": true,
    "editable": true
   },
   "outputs": [
    {
     "name": "stderr",
     "output_type": "stream",
     "text": [
      "Warning: htop-2.0.2 already installed\n"
     ]
    }
   ],
   "source": [
    "%%bash \n",
    "brew install htop # installing htop"
   ]
  },
  {
   "cell_type": "code",
   "execution_count": 18,
   "metadata": {
    "collapsed": true,
    "deletable": true,
    "editable": true
   },
   "outputs": [],
   "source": [
    "import time\n",
    "def how_to_fry_eggs_on_my_computer(t):\n",
    "    '''\n",
    "    INPUT: INT/FLOAT - time (seconds) to waste electricity\n",
    "    OUTPUT: None\n",
    "    '''\n",
    "    start = time.time()\n",
    "    while time.time() - start < t:\n",
    "        pass\n",
    "    return 'One process completed'"
   ]
  },
  {
   "cell_type": "markdown",
   "metadata": {
    "deletable": true,
    "editable": true
   },
   "source": [
    "This is serial processing.  Try running this and monitor `htop` for the activities of your different cores"
   ]
  },
  {
   "cell_type": "code",
   "execution_count": 3,
   "metadata": {
    "collapsed": false,
    "deletable": true,
    "editable": true
   },
   "outputs": [
    {
     "data": {
      "text/plain": [
       "'One process completed'"
      ]
     },
     "execution_count": 3,
     "metadata": {},
     "output_type": "execute_result"
    }
   ],
   "source": [
    "how_to_fry_eggs_on_my_computer(10)"
   ]
  },
  {
   "cell_type": "markdown",
   "metadata": {
    "deletable": true,
    "editable": true
   },
   "source": [
    "Observations\n",
    "* What did you observe?\n",
    "* How many python processes were running?\n",
    "* Why did two cores show activity?"
   ]
  },
  {
   "cell_type": "markdown",
   "metadata": {
    "deletable": true,
    "editable": true
   },
   "source": [
    "Now let's try the same task but in parallel.  A lifecycle of a process is:\n",
    "\n",
    "* Fork\n",
    "* Execute \n",
    "* Exit\n",
    "* Reaped by parent"
   ]
  },
  {
   "cell_type": "code",
   "execution_count": 4,
   "metadata": {
    "collapsed": false,
    "deletable": true,
    "editable": true
   },
   "outputs": [
    {
     "name": "stdout",
     "output_type": "stream",
     "text": [
      "This machine has 4 cpu's\n"
     ]
    }
   ],
   "source": [
    "from multiprocessing import Pool, cpu_count\n",
    "\n",
    "n_cpus = cpu_count()\n",
    "pool = Pool(processes=n_cpus)\n",
    "\n",
    "print('This machine has {} cpu\\'s'.format(n_cpus))"
   ]
  },
  {
   "cell_type": "code",
   "execution_count": 5,
   "metadata": {
    "collapsed": false,
    "deletable": true,
    "editable": true
   },
   "outputs": [
    {
     "data": {
      "text/plain": [
       "['One process completed',\n",
       " 'One process completed',\n",
       " 'One process completed',\n",
       " 'One process completed']"
      ]
     },
     "execution_count": 5,
     "metadata": {},
     "output_type": "execute_result"
    }
   ],
   "source": [
    "import numpy as np\n",
    "\n",
    "pool.map(how_to_fry_eggs_on_my_computer, np.ones(n_cpus)*10)"
   ]
  },
  {
   "cell_type": "markdown",
   "metadata": {
    "deletable": true,
    "editable": true
   },
   "source": [
    "### Speed Comparison"
   ]
  },
  {
   "cell_type": "code",
   "execution_count": 19,
   "metadata": {
    "collapsed": false,
    "deletable": true,
    "editable": true
   },
   "outputs": [
    {
     "name": "stdout",
     "output_type": "stream",
     "text": [
      "Computation taken 33.24370884895325 seconds with serial processing and returned [110, 96, 96, 194]\n"
     ]
    }
   ],
   "source": [
    "def count_prime(n):\n",
    "    '''\n",
    "    INPUT: INT - positive number to calculate primes\n",
    "    OUTPUT: INT - number of prime numbers in digits up to n\n",
    "    '''\n",
    "    counter = 0\n",
    "    for i in range(2, n-1):\n",
    "        if n % i == 0:\n",
    "            counter += 1\n",
    "    return counter\n",
    "\n",
    "numbers = [int(i) for i in [7.4E7, 7.3E7, 7.1E7, 7.7E7]]\n",
    "start = time.time()\n",
    "prime_count = [count_prime(n) for n in numbers]\n",
    "print('Computation taken {} seconds with serial processing and returned {}'.format(time.time()-start, prime_count))"
   ]
  },
  {
   "cell_type": "code",
   "execution_count": 20,
   "metadata": {
    "collapsed": false,
    "deletable": true,
    "editable": true
   },
   "outputs": [
    {
     "name": "stdout",
     "output_type": "stream",
     "text": [
      "Computation taken 21.188700199127197 seconds with multiprocessing and returned [110, 96, 96, 194]\n"
     ]
    }
   ],
   "source": [
    "pool = Pool(processes=n_cpus)\n",
    "start = time.time()\n",
    "prime_count = pool.map(count_prime, numbers)\n",
    "print('Computation taken {} seconds with multiprocessing and returned {}'.format(time.time()-start, prime_count))"
   ]
  },
  {
   "cell_type": "code",
   "execution_count": 15,
   "metadata": {
    "collapsed": false,
    "deletable": true,
    "editable": true
   },
   "outputs": [],
   "source": [
    "def speed_comparison(n_processes):\n",
    "    '''\n",
    "    INPUT: n_processes to perform `count_prime`\n",
    "    OUTPUT: time (in seconds) the computation took\n",
    "    '''\n",
    "    pool = Pool(processes=n_processes)\n",
    "    numbers = list(range(20000, 40000))\n",
    "    start = time.time()\n",
    "    prime_count = pool.map(count_prime, numbers)\n",
    "    return time.time()-start\n",
    "\n",
    "processes = list(range(1, 20))\n",
    "time = [speed_comparison(n_processes) for n_processes in processes]"
   ]
  },
  {
   "cell_type": "code",
   "execution_count": 9,
   "metadata": {
    "collapsed": true,
    "deletable": true,
    "editable": true
   },
   "outputs": [],
   "source": [
    "import matplotlib.pyplot as plt\n",
    "%matplotlib inline"
   ]
  },
  {
   "cell_type": "code",
   "execution_count": 16,
   "metadata": {
    "collapsed": false,
    "deletable": true,
    "editable": true
   },
   "outputs": [
    {
     "data": {
      "text/plain": [
       "<matplotlib.text.Text at 0x118bd55c0>"
      ]
     },
     "execution_count": 16,
     "metadata": {},
     "output_type": "execute_result"
    },
    {
     "data": {
      "image/png": "[encoded data removed]",
      "text/plain": [
       "<matplotlib.figure.Figure at 0x118a98b38>"
      ]
     },
     "metadata": {},
     "output_type": "display_data"
    }
   ],
   "source": [
    "plt.figure(figsize=(15, 6))\n",
    "plt.plot(processes, time)\n",
    "plt.xlabel('Number of Processes Used')\n",
    "plt.ylabel('Total Time Taken (sec)')\n",
    "plt.title('Multiprocessing Speed Comparison')\n"
   ]
  },
  {
   "cell_type": "markdown",
   "metadata": {},
   "source": [
    "![amdahls_law](images/amdahlslaw.png)"
   ]
  },
  {
   "cell_type": "markdown",
   "metadata": {},
   "source": [
    "**Amdahl's Law** \n",
    "\n",
    "* Offers a theoretical framework for understanding the speed improvement of parallel processing\n",
    "* In brief, the speed-up is always limited by the part of the task that cannot be benefit from the improvement"
   ]
  },
  {
   "cell_type": "markdown",
   "metadata": {
    "deletable": true,
    "editable": true
   },
   "source": [
    "### Runtime Analysis (aka Big O Notation)"
   ]
  },
  {
   "cell_type": "code",
   "execution_count": null,
   "metadata": {
    "collapsed": true
   },
   "outputs": [],
   "source": [
    "def has_element(lst, element):\n",
    "    for elem in lst:\n",
    "        if elem == element:\n",
    "            return True\n",
    "    return False"
   ]
  },
  {
   "cell_type": "markdown",
   "metadata": {},
   "source": [
    "* How long does this code take to run?\n",
    "* What is it runtime a function of?"
   ]
  },
  {
   "cell_type": "markdown",
   "metadata": {},
   "source": [
    "Big O Notation Overview\n",
    "\n",
    "* The runtime for the above code is O(n)\n",
    "* Runtime refers to the worst case scenerio\n",
    "* Pronounced \"Big oh of n\"\n",
    "* This is a crude calculation \n",
    " - Ignore constant factors\n",
    " - If there are multiple elements of the calculation, only look at teh most complex"
   ]
  },
  {
   "cell_type": "markdown",
   "metadata": {},
   "source": [
    "**What does this actually matter?**  For trival tasks, you'll hardly notice a difference in different algorithms.  As N increases, however, runtime becomes increasingly important\n",
    "\n",
    "|n | O(n) algorithm | O(n^2) algorithm|\n",
    "|----|-----|------|\n",
    "|100 | 1 sec | 1 sec|\n",
    "|1000 | 10 sec | 100 sec|\n",
    "|10,000 | 100 sec | 10,000 sec = 167 min|\n",
    "|100,000 | 1000 sec = 17 min | 1,000,000 sec = 11 days|"
   ]
  },
  {
   "cell_type": "markdown",
   "metadata": {},
   "source": [
    "![comparison](images/comparison.png)"
   ]
  },
  {
   "cell_type": "markdown",
   "metadata": {},
   "source": [
    "Here are the runtimes you will commonly see, in order from slow to fast:\n",
    "\n",
    "* O(1) (constant)\n",
    "* O(log n) (logarithmic)\n",
    "* O(n) (linear)\n",
    "* O(n log n)\n",
    "* O(n^2) (quadratic)\n",
    "* O(n^3) (cubic)\n",
    "* O(2^n) (exponential) (there are different levels of exponential depending on the base)"
   ]
  },
  {
   "cell_type": "markdown",
   "metadata": {},
   "source": [
    "Here are some standard operations and their operations:\n",
    "\n",
    "* List operations:\n",
    " - Appending: O(1)\n",
    " - Adding to the beginning or middle: O(n) (have to slide everything over!)\n",
    " - Popping from the end: O(1)\n",
    " - Popping from the beginning or middle: O(n)\n",
    " - Looking up by index: O(1)\n",
    " - Checking membership (seaching): O(n) (have to look at every item)\n",
    " - Searching if the list is in sorted order: O(log n) (binary search)\n",
    "* Dictionary operations (Dictionaries are fast!!):\n",
    " - Inserting an item: O(1)\n",
    " - Removing an item: O(1)\n",
    " - Looking up by key: O(1)\n",
    " - Looking up by value: O(n) (have to look at every item)\n",
    "* Sorting:\n",
    " - O(n log n)"
   ]
  },
  {
   "cell_type": "markdown",
   "metadata": {
    "collapsed": false,
    "deletable": true,
    "editable": true
   },
   "source": [
    "### Multiprocessing vs Threading"
   ]
  },
  {
   "cell_type": "markdown",
   "metadata": {},
   "source": [
    "**The rule of thumb is that if a task takes long enough for you to ask the question \"should I use multiprocessing?\" then you should likely consider it**"
   ]
  },
  {
   "cell_type": "markdown",
   "metadata": {
    "deletable": true,
    "editable": true
   },
   "source": [
    "Commit this to memory and you should always be able to pick the best tool:\n",
    "\n",
    "|Approach |Context |Memory Space | Example Use Case | \n",
    "|:-----:|:-----:|:-----:|:-----:|:-----:|\n",
    "|Threading | I/O bound | Shared | Webscraping (where you're waiting on GET requests) | \n",
    "|Multiprocessing | CPU bound | Separate |  Gridsearch (where you're limited by the computation) | "
   ]
  },
  {
   "cell_type": "markdown",
   "metadata": {
    "collapsed": false,
    "deletable": true,
    "editable": true
   },
   "source": [
    "### Extending to other technologies"
   ]
  },
  {
   "cell_type": "markdown",
   "metadata": {
    "deletable": true,
    "editable": true
   },
   "source": [
    "|Tool |Distribute term|Consolidate term|Application|\n",
    "|:--------:|:--------:|:--------:|:--------:|\n",
    "| multiprocessing | `start` | `join` |Distributing work across processors|\n",
    "| threading | `run`/`start` | `join` |Running work concurrently with shared memory and less overhead |\n",
    "| ipyparallel | `scatter` (data) `map` (work) | `gather` |Distributing work across processors or nodes|\n",
    "| Hadoop | map | reduce|Distributing work across nodes|\n",
    "| Spark | many | many | Adds complexity to Hadoop through an understanding of DAG |"
   ]
  },
  {
   "cell_type": "markdown",
   "metadata": {
    "collapsed": true,
    "deletable": true,
    "editable": true
   },
   "source": [
    "### Concluding Remarks"
   ]
  },
  {
   "cell_type": "markdown",
   "metadata": {
    "collapsed": true,
    "deletable": true,
    "editable": true
   },
   "source": [
    "* Use parallel processing with computationally intensive jobs\n",
    "* Use threading for speed\n",
    "* Use a parallel processing when the length of the job offsets the cost of launching a process\n",
    "* Like always, make a minimum viable product and then scale.  \n",
    "  * In this case, that means code in serial first before parallelizing  \n",
    "  * \"Premature optimization is the root of all evil\"\n",
    "* Have fun debugging :-)"
   ]
  },
  {
   "cell_type": "markdown",
   "metadata": {},
   "source": [
    "### Other Resources\n",
    "\n",
    "* https://wiki.python.org/moin/TimeComplexity\n",
    "* http://www.greenteapress.com/compmod/html/thinkcomplexity004.html\n",
    "* https://en.wikipedia.org/wiki/Big_O_notation#Formal_definition"
   ]
  },
  {
   "cell_type": "code",
   "execution_count": null,
   "metadata": {
    "collapsed": true,
    "deletable": true,
    "editable": true
   },
   "outputs": [],
   "source": []
  }
 ],
 "metadata": {
  "kernelspec": {
   "display_name": "Python 3",
   "language": "python",
   "name": "python3"
  },
  "language_info": {
   "codemirror_mode": {
    "name": "ipython",
    "version": 3
   },
   "file_extension": ".py",
   "mimetype": "text/x-python",
   "name": "python",
   "nbconvert_exporter": "python",
   "pygments_lexer": "ipython3",
   "version": "3.6.0"
  }
 },
 "nbformat": 4,
 "nbformat_minor": 2
}
