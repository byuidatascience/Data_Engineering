{
 "cells": [
  {
   "cell_type": "markdown",
   "metadata": {},
   "source": [
    "Databases and SQL\n",
    "===\n",
    "\n",
    "![](images/exploits_of_a_mom.png)"
   ]
  },
  {
   "cell_type": "markdown",
   "metadata": {},
   "source": [
    "---\n",
    "SQL is the _lingua franca_ of data\n",
    "----\n",
    "\n",
    "SQL (almost) all systems speak it and you will be expect to be fluent in it"
   ]
  },
  {
   "cell_type": "markdown",
   "metadata": {},
   "source": [
    "---\n",
    "By The End of This Session You Will:\n",
    "---\n",
    "- Know why relational databases are one of the best ways to store and access data\n",
    "- Have a conceptual overview of SQL as a data querying language\n",
    "- Be able to use fundamental SQL commands of SELECT and FROM\n",
    "- Be able to \n",
    "    - Filter\n",
    "    - Order\n",
    "    - Aggregate"
   ]
  },
  {
   "cell_type": "markdown",
   "metadata": {},
   "source": [
    "---\n",
    "Data Persistence\n",
    "---\n",
    "\n",
    "<details><summary>\n",
    "What is one of the most common ways to presisent data?\n",
    "</summary>\n",
    "Flat file  <br>\n",
    "<br>\n",
    "You open up a text editor, enter some information, and save the file to disk. You've just persisted some data and can transfer that file wherever you wish. For most data, that's enough.\n",
    "</details>"
   ]
  },
  {
   "cell_type": "markdown",
   "metadata": {},
   "source": [
    "<br>\n",
    "<br>\n",
    "<br>\n",
    "<br>\n",
    "<br>"
   ]
  },
  {
   "cell_type": "markdown",
   "metadata": {},
   "source": [
    "Flat files:\n",
    "\n",
    "- May contain only basic formatting (e.g., JSON, CSV, or XML)\n",
    "- Have a small fixed number of fields\n",
    "- May or may not have a file format"
   ]
  },
  {
   "cell_type": "markdown",
   "metadata": {},
   "source": [
    "---\n",
    "Challenge Question\n",
    "---\n",
    "\n",
    "<details><summary>\n",
    "What are limitations of flat file storage?\n",
    "</summary> \n",
    "- Reliability guarantees   \n",
    "- Data integrity guarantees (e.g. no duplication)  \n",
    "- Ability to query data efficiently  \n",
    "- Ability to model relations in data  \n",
    "</details>"
   ]
  },
  {
   "cell_type": "markdown",
   "metadata": {},
   "source": [
    "---\n",
    "Relational Database Management Systems (RDBMS)\n",
    "---\n",
    "\n",
    "<img src=\"http://www.sqlrelease.com/wp-content/uploads/2015/05/RDBMS1.png\" style=\"width: 400px;\"/>\n",
    "\n",
    "- Who has queried a toy DB?\n",
    "- Who has queryed a production DB?\n",
    "- Who has made a toy DB?\n",
    "- Who has made a production DB?\n",
    "- Who has broken a producation DB and cost a company $1,000s?"
   ]
  },
  {
   "cell_type": "markdown",
   "metadata": {},
   "source": [
    "---\n",
    "RDBMS properties\n",
    "---\n",
    "\n",
    "<img src=\"http://technicgang.com/wp-content/uploads/2015/04/01oun03.gif\" style=\"width: 400px;\"/>\n",
    "\n",
    "\n",
    "RDBMS provide the ability to model relations in data and query the data and their relations efficiently. They also provide a bevy of guarantees to maintain data consistency and integrity."
   ]
  },
  {
   "cell_type": "markdown",
   "metadata": {},
   "source": [
    "---\n",
    "RDBMS Examples\n",
    "---\n",
    "\n",
    "<img src=\"https://raw.githubusercontent.com/docker-library/docs/01c12653951b2fe592c1f93a13b4e289ada0e3a1/postgres/logo.png\" style=\"width: 400px;\"/>\n",
    "\n",
    "<img src=\"https://upload.wikimedia.org/wikipedia/en/thumb/6/62/MySQL.svg/1280px-MySQL.svg.png\" style=\"width: 400px;\"/>\n",
    "\n",
    "<img src=\"https://upload.wikimedia.org/wikipedia/commons/thumb/3/38/SQLite370.svg/2000px-SQLite370.svg.png\" style=\"width: 400px;\"/>"
   ]
  },
  {
   "cell_type": "markdown",
   "metadata": {},
   "source": [
    "---\n",
    "The RDBMS Data Model\n",
    "---\n",
    "\n",
    "Relational databases have a **schema** that defines the structure of the data.\n",
    "Each database is composed of a number of user-defined **tables**, each with\n",
    "**columns** and **rows**. Each column is of a certain **data type** such as\n",
    "integer, string, or date. Each row is an entry in the table with data for each\n",
    "column of that table.\n",
    "\n",
    "<img src=\"images/realation_db.png\" style=\"width: 400px;\"/>"
   ]
  },
  {
   "cell_type": "markdown",
   "metadata": {},
   "source": [
    "__Key Points__:\n",
    "    \n",
    "- The key abstraction of SQL is the table. Data is stored as a table. SQL queries __always__ return tables.\n",
    "- The primary data unit is a record, a row in a table."
   ]
  },
  {
   "cell_type": "markdown",
   "metadata": {},
   "source": [
    "---\n",
    "Check for understanding\n",
    "---\n",
    "\n",
    "<details><summary>\n",
    "What is a the best way to represent SQL tables in Python?\n",
    "</summary>\n",
    "Panda's DataFrame. DataFrames are tabular data in Python\n",
    "</details>\n",
    "<br>\n",
    "<details><summary>\n",
    "What is a the best way to represent a SQL record in Python?\n",
    "</summary>\n",
    "A tuple (or a namedtuple). A tuple is an immutable ordered collection.\n",
    "</details>"
   ]
  },
  {
   "cell_type": "markdown",
   "metadata": {},
   "source": [
    "Here is an example of how to create a database table.\n",
    "\n",
    "```sql\n",
    "CREATE TABLE CUSTOMERS (\n",
    "    id INTEGER PRIMARY KEY\n",
    ",   name VARCHAR(50)\n",
    ",   age INTEGER\n",
    ",   city VARCHAR(255)\n",
    ",   state VARCHAR(2))\n",
    ";\n",
    "```\n",
    "\n",
    "__Note__: Must specify a type for each column (aka, schema before write)\n",
    "\n",
    "```sql\n",
    "INSERT INTO CUSTOMERS\n",
    "\t(`id`, `name`, `age`, `city`, `state`)\n",
    "VALUES\n",
    "\t(1, 'Brian Spiering', '36', 'San Francisco', 'CA'),\n",
    "    (2, 'Donald Trump', '69', 'New York City', 'NY'),\n",
    "    (3, 'Arnold Schwarzenegger', '68', 'Pacific Palisades', 'CA')\n",
    ";\n",
    "```"
   ]
  },
  {
   "cell_type": "markdown",
   "metadata": {},
   "source": [
    "Let's code it up with [SQL Fiddle](http://sqlfiddle.com/#!9/18608/1)"
   ]
  },
  {
   "cell_type": "markdown",
   "metadata": {},
   "source": [
    "---\n",
    "SQL\n",
    "---\n",
    "\n",
    "Structed Query Language (SQL) is the language used to query relational databases. All RDBMS use SQL and the syntax and keywords are for the most part the same across systems, though each system does have some of its own\n",
    "peculiarities.\n",
    "\n",
    "SQL is used to interact with RDBMS. That is, it allows you to:\n",
    "\n",
    "- Create tables\n",
    "- Alter tables\n",
    "- Insert records\n",
    "- Update records\n",
    "- Delete records\n",
    "- Query records \n",
    "\n",
    "**We will focus primarily on querying.**\n",
    "\n",
    "SQL, unlike Python or many other general purpose programming languages, is a declarative language, meaning the query describes the set of results. \n",
    "\n",
    "Programming Paradigms for data processing:\n",
    "\n",
    "- Declarative: we only describe what we want to retrieve, aka end state\n",
    "- Procedural (operational): we describe how we retrieve\n",
    "- Functional: treats computation as the evaluation of mathematical functions and avoids changing-state and mutable data.\n",
    "\n",
    "It is also Domain Specfic Language (DSL), like regex."
   ]
  },
  {
   "cell_type": "markdown",
   "metadata": {},
   "source": [
    "----\n",
    "SQL Queries\n",
    "----\n",
    "\n",
    "Here's an example of a simple query:\n",
    "\n",
    "```sql\n",
    "SELECT name, age\n",
    "FROM customers\n",
    "```\n",
    "\n",
    "This query returns the name and age for every user in the `customers` table."
   ]
  },
  {
   "cell_type": "markdown",
   "metadata": {},
   "source": [
    "---\n",
    "Challenge Question\n",
    "---\n",
    "\n",
    "<details><summary>\n",
    "How would I get all columns?\n",
    "</summary>\n",
    "```\n",
    "SELECT *\n",
    "FROM customers\n",
    "```\n",
    "</details>"
   ]
  },
  {
   "cell_type": "markdown",
   "metadata": {},
   "source": [
    "SQL queries are composed of **clauses**. Each clause begins with a **keyword**.\n",
    "Every query begins with the `SELECT` keyword followed by the `FROM` keyword. \n",
    "\n",
    "The `SELECT` clause picks the columns to be retrieved.\n",
    "The `FROM` clause picks the table to use.\n",
    "\n",
    "You then have the ability to: \n",
    "\n",
    "- Filter\n",
    "- Order\n",
    "- Aggregate\n"
   ]
  },
  {
   "cell_type": "markdown",
   "metadata": {},
   "source": [
    "---\n",
    "Filtering\n",
    "----\n",
    "\n",
    "```sql\n",
    "SELECT name, age\n",
    "FROM customers\n",
    "WHERE state = 'CA'\n",
    "```\n",
    "\n",
    "This query returns the name and age for every customer in the `customers` table who\n",
    "lives in CA."
   ]
  },
  {
   "cell_type": "markdown",
   "metadata": {},
   "source": [
    "---\n",
    "Check for understanding\n",
    "---\n",
    "\n",
    "<details><summary>\n",
    "What will the results table look?\n",
    "</summary>\n",
    "<img src=\"images/results.png\" style=\"width: 400px;\"/>\n",
    "</details>"
   ]
  },
  {
   "cell_type": "markdown",
   "metadata": {},
   "source": [
    "---\n",
    "Ordering\n",
    "---\n",
    "\n",
    "The ORDER BY clause allows you to reorder your results based on the data in one or more columns. \n",
    "\n",
    "```sql\n",
    "SELECT name, age\n",
    "FROM customers\n",
    "ORDER BY age\n",
    "```"
   ]
  },
  {
   "cell_type": "markdown",
   "metadata": {},
   "source": [
    "---\n",
    "Check for understanding\n",
    "---\n",
    "\n",
    "How will the output table be different bewteen these queries?\n",
    "\n",
    "```sql\n",
    "SELECT name, age\n",
    "FROM customers\n",
    "ORDER BY age DESC\n",
    "```\n",
    "\n",
    "```sql\n",
    "SELECT name, age\n",
    "FROM customers\n",
    "ORDER BY age ASC\n",
    "```\n",
    "\n",
    "<details><summary>\n",
    "Click here the answer\n",
    "</summary>\n",
    "The 1st query returns ages sorted high to low. The 2nd query returns ages sorted low to high.\n",
    "</details>"
   ]
  },
  {
   "cell_type": "markdown",
   "metadata": {},
   "source": [
    "---\n",
    "Aggregating\n",
    "---\n",
    "\n",
    "Common aggregate commands:\n",
    "\n",
    "- COUNT\n",
    "- SUM\n",
    "- MIN\n",
    "- MAX\n",
    "- AVG\n",
    "\n",
    "```sql\n",
    "SELECT COUNT(*)\n",
    "FROM customers\n",
    "```\n"
   ]
  },
  {
   "cell_type": "markdown",
   "metadata": {},
   "source": [
    "---\n",
    "Check for understanding\n",
    "---\n",
    "\n",
    "<details><summary>\n",
    "What is the difference between arithmetic operators (+, -, *, ...) and aggregation functions?\n",
    "</summary>\n",
    "Arithmetic operators only perform operations across rows. <br>\n",
    "Aggregation functions are used to perform operations across entire columns.\n",
    "</details>"
   ]
  },
  {
   "cell_type": "markdown",
   "metadata": {},
   "source": [
    "---\n",
    "Summary\n",
    "----\n",
    "- RDMS are feature-rich way of storing data for later querying.\n",
    "- There are a small number of declarative commands for querying data.\n",
    "    - SELECT\n",
    "    - FROM\n",
    "    - WHERE\n",
    "    - ORDER BY\n",
    "    - COUNT, SUM, MIN, MAX, AVG\n",
    "- Getting good at SQL is like getting to Carnegie Hall - Practice, Practice, Practice!"
   ]
  },
  {
   "cell_type": "markdown",
   "metadata": {},
   "source": [
    "<br>\n",
    "<br> \n",
    "<br>\n",
    "\n",
    "---\n",
    "Paired Programming Lab\n",
    "---\n",
    "\n",
    "![](http://tclhost.com/XJoX8GP.gif)\n",
    "\n",
    "Mode Analytic's SQL school from https://sqlschool.modeanalytics.com/the-basics/introduction/ to https://sqlschool.modeanalytics.com/intermediate/distinct/.\n",
    "\n",
    "Stop before `CASE` statements."
   ]
  },
  {
   "cell_type": "markdown",
   "metadata": {},
   "source": [
    "<br>"
   ]
  }
 ],
 "metadata": {
  "kernelspec": {
   "display_name": "Python 2",
   "language": "python",
   "name": "python2"
  },
  "language_info": {
   "codemirror_mode": {
    "name": "ipython",
    "version": 2
   },
   "file_extension": ".py",
   "mimetype": "text/x-python",
   "name": "python",
   "nbconvert_exporter": "python",
   "pygments_lexer": "ipython2",
   "version": "2.7.11"
  }
 },
 "nbformat": 4,
 "nbformat_minor": 0
}
