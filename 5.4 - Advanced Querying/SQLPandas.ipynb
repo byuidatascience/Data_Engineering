{
 "cells": [
  {
   "cell_type": "markdown",
   "metadata": {},
   "source": [
    "# Connecting to Postgres with Pands"
   ]
  },
  {
   "cell_type": "code",
   "execution_count": 1,
   "metadata": {
    "collapsed": true
   },
   "outputs": [],
   "source": [
    "import os\n",
    "import pandas as pd\n",
    "import yaml\n",
    "from sqlalchemy import create_engine"
   ]
  },
  {
   "cell_type": "code",
   "execution_count": 2,
   "metadata": {
    "collapsed": true
   },
   "outputs": [],
   "source": [
    "credentials = yaml.load(open(os.path.expanduser('~/api_cred.yml')))"
   ]
  },
  {
   "cell_type": "code",
   "execution_count": 3,
   "metadata": {
    "collapsed": false
   },
   "outputs": [],
   "source": [
    "engine = create_engine('postgresql://{user}:{password}@{host}:{port}/{dbname}'.format(**credentials['rds']))"
   ]
  },
  {
   "cell_type": "code",
   "execution_count": 4,
   "metadata": {
    "collapsed": false
   },
   "outputs": [
    {
     "data": {
      "text/plain": [
       "['tweets', 'entities', 'users']"
      ]
     },
     "execution_count": 4,
     "metadata": {},
     "output_type": "execute_result"
    }
   ],
   "source": [
    "engine.table_names()"
   ]
  },
  {
   "cell_type": "code",
   "execution_count": 5,
   "metadata": {
    "collapsed": false
   },
   "outputs": [
    {
     "data": {
      "text/html": [
       "<div>\n",
       "<table border=\"1\" class=\"dataframe\">\n",
       "  <thead>\n",
       "    <tr style=\"text-align: right;\">\n",
       "      <th></th>\n",
       "      <th>tweet_id</th>\n",
       "      <th>text</th>\n",
       "      <th>user_id</th>\n",
       "      <th>timestamp_ms</th>\n",
       "      <th>created_at</th>\n",
       "      <th>lang</th>\n",
       "      <th>possibly_sensitive</th>\n",
       "    </tr>\n",
       "  </thead>\n",
       "  <tbody>\n",
       "    <tr>\n",
       "      <th>0</th>\n",
       "      <td>829731620521385986</td>\n",
       "      <td>Таhsin Cesurun tabloları değiştirdiğini anlıyo...</td>\n",
       "      <td>814557021102075905</td>\n",
       "      <td>1486658408657</td>\n",
       "      <td>2017-02-09 16:40:08+00:00</td>\n",
       "      <td>tr</td>\n",
       "      <td>None</td>\n",
       "    </tr>\n",
       "    <tr>\n",
       "      <th>1</th>\n",
       "      <td>829731620554940416</td>\n",
       "      <td>#SpringDay Bangtan é mais que um mero grupo de...</td>\n",
       "      <td>771077634851831808</td>\n",
       "      <td>1486658408665</td>\n",
       "      <td>2017-02-09 16:40:08+00:00</td>\n",
       "      <td>pt</td>\n",
       "      <td>None</td>\n",
       "    </tr>\n",
       "    <tr>\n",
       "      <th>2</th>\n",
       "      <td>829731628914073600</td>\n",
       "      <td>RT @n0namae: วันเกิดปีหน้าก็งานแต่งนะคะ 😌 #Hap...</td>\n",
       "      <td>520174195</td>\n",
       "      <td>1486658410658</td>\n",
       "      <td>2017-02-09 16:40:10+00:00</td>\n",
       "      <td>th</td>\n",
       "      <td>False</td>\n",
       "    </tr>\n",
       "    <tr>\n",
       "      <th>3</th>\n",
       "      <td>829731624749199360</td>\n",
       "      <td>組曲『ニコニコ動画』、台湾人で大合唱 (11:26) https://t.co/wH4mIq...</td>\n",
       "      <td>2568449881</td>\n",
       "      <td>1486658409665</td>\n",
       "      <td>2017-02-09 16:40:09+00:00</td>\n",
       "      <td>ja</td>\n",
       "      <td>False</td>\n",
       "    </tr>\n",
       "    <tr>\n",
       "      <th>4</th>\n",
       "      <td>829731628914135041</td>\n",
       "      <td>QUE HERMOSA QUE SOS CHOI SOOYOUNG #HOTSOOTUFFD...</td>\n",
       "      <td>736427204607889408</td>\n",
       "      <td>1486658410658</td>\n",
       "      <td>2017-02-09 16:40:10+00:00</td>\n",
       "      <td>es</td>\n",
       "      <td>False</td>\n",
       "    </tr>\n",
       "  </tbody>\n",
       "</table>\n",
       "</div>"
      ],
      "text/plain": [
       "             tweet_id                                               text  \\\n",
       "0  829731620521385986  Таhsin Cesurun tabloları değiştirdiğini anlıyo...   \n",
       "1  829731620554940416  #SpringDay Bangtan é mais que um mero grupo de...   \n",
       "2  829731628914073600  RT @n0namae: วันเกิดปีหน้าก็งานแต่งนะคะ 😌 #Hap...   \n",
       "3  829731624749199360  組曲『ニコニコ動画』、台湾人で大合唱 (11:26) https://t.co/wH4mIq...   \n",
       "4  829731628914135041  QUE HERMOSA QUE SOS CHOI SOOYOUNG #HOTSOOTUFFD...   \n",
       "\n",
       "              user_id   timestamp_ms                created_at lang  \\\n",
       "0  814557021102075905  1486658408657 2017-02-09 16:40:08+00:00   tr   \n",
       "1  771077634851831808  1486658408665 2017-02-09 16:40:08+00:00   pt   \n",
       "2           520174195  1486658410658 2017-02-09 16:40:10+00:00   th   \n",
       "3          2568449881  1486658409665 2017-02-09 16:40:09+00:00   ja   \n",
       "4  736427204607889408  1486658410658 2017-02-09 16:40:10+00:00   es   \n",
       "\n",
       "  possibly_sensitive  \n",
       "0               None  \n",
       "1               None  \n",
       "2              False  \n",
       "3              False  \n",
       "4              False  "
      ]
     },
     "execution_count": 5,
     "metadata": {},
     "output_type": "execute_result"
    }
   ],
   "source": [
    "pd.read_sql(\"SELECT * FROM tweets LIMIT 5\", engine)"
   ]
  }
 ],
 "metadata": {
  "kernelspec": {
   "display_name": "IPython (Python 3)",
   "language": "python",
   "name": "python3"
  },
  "language_info": {
   "codemirror_mode": {
    "name": "ipython",
    "version": 3
   },
   "file_extension": ".py",
   "mimetype": "text/x-python",
   "name": "python",
   "nbconvert_exporter": "python",
   "pygments_lexer": "ipython3",
   "version": "3.5.2"
  }
 },
 "nbformat": 4,
 "nbformat_minor": 2
}
